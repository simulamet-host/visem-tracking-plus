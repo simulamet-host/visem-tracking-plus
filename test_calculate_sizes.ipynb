{
 "cells": [
  {
   "cell_type": "code",
   "execution_count": 8,
   "metadata": {},
   "outputs": [
    {
     "name": "stderr",
     "output_type": "stream",
     "text": [
      "Processing files: 100%|██████████| 23316/23316 [00:17<00:00, 1345.88it/s]"
     ]
    },
    {
     "name": "stdout",
     "output_type": "stream",
     "text": [
      "The average size of the bounding boxes is: 0.0015948714913397097\n"
     ]
    },
    {
     "name": "stderr",
     "output_type": "stream",
     "text": [
      "\n"
     ]
    }
   ],
   "source": [
    "import os\n",
    "from tqdm import tqdm\n",
    "\n",
    "def calculate_average_size_aabb(directory):\n",
    "    total_area = 0.0\n",
    "    count = 0\n",
    "    files = [f for f in os.listdir(directory) if f.endswith(\".txt\")]\n",
    "\n",
    "    # Wrap the files list with tqdm to display a progress bar\n",
    "    for filename in tqdm(files, desc=\"Processing files\"):\n",
    "        file_path = os.path.join(directory, filename)\n",
    "        \n",
    "        with open(file_path, 'r') as file:\n",
    "            for line in file.readlines():\n",
    "                parts = line.split()\n",
    "                if len(parts) != 5:\n",
    "                    continue\n",
    "                _, _, _, w, h = parts\n",
    "                w, h = float(w), float(h)\n",
    "                area = w * h\n",
    "                total_area += area\n",
    "                count += 1\n",
    "\n",
    "    average_area = total_area / count if count else 0\n",
    "    return average_area\n",
    "\n",
    "#directory = \"/home/pal.bentsen/D1/datasets2024/VISEM-Tracking-SILVER-AABB-AFTER-SAM-SEG/train\"\n",
    "directory = \"/home/pal.bentsen/D1/datasets2024v2/VISEM-Tracking-sorted-GoldLegacy-soloClass/train\" #legacy\n",
    "average_size = calculate_average_size_aabb(directory)\n",
    "print(f\"The average size of the bounding boxes is: {average_size}\")\n"
   ]
  },
  {
   "cell_type": "code",
   "execution_count": 6,
   "metadata": {},
   "outputs": [
    {
     "name": "stderr",
     "output_type": "stream",
     "text": [
      "Processing OBB files: 100%|██████████| 23316/23316 [00:23<00:00, 975.64it/s] "
     ]
    },
    {
     "name": "stdout",
     "output_type": "stream",
     "text": [
      "The average size of the OBB bounding boxes is: 0\n"
     ]
    },
    {
     "name": "stderr",
     "output_type": "stream",
     "text": [
      "\n"
     ]
    }
   ],
   "source": [
    "import os\n",
    "from tqdm import tqdm\n",
    "import numpy as np\n",
    "\n",
    "def calculate_polygon_area(points):\n",
    "    # Assumes points are [(x1, y1), (x2, y2), ..., (xn, yn)] in order\n",
    "    x = points[::2]\n",
    "    y = points[1::2]\n",
    "    return 0.5 * np.abs(np.dot(x, np.roll(y, 1)) - np.dot(y, np.roll(x, 1)))\n",
    "\n",
    "def calculate_average_size_obb(directory):\n",
    "    total_area = 0.0\n",
    "    count = 0\n",
    "    files = [f for f in os.listdir(directory) if f.endswith(\".txt\")]\n",
    "\n",
    "    # Wrap the files list with tqdm to display a progress bar\n",
    "    for filename in tqdm(files, desc=\"Processing OBB files\"):\n",
    "        file_path = os.path.join(directory, filename)\n",
    "        \n",
    "        with open(file_path, 'r') as file:\n",
    "            for line in file.readlines():\n",
    "                parts = line.split()\n",
    "                # Expecting OBB to be represented by 8 numbers (4 points * 2 coordinates)\n",
    "                if len(parts) < 9:  # Including class ID\n",
    "                    continue\n",
    "                # First value is class id, next 8 are x, y coordinates\n",
    "                coordinates = list(map(float, parts[1:9]))\n",
    "                area = calculate_polygon_area(coordinates)\n",
    "                total_area += area\n",
    "                count += 1\n",
    "\n",
    "    average_area = total_area / count if count else 0\n",
    "    return average_area\n",
    "\n",
    "directory = \"/home/pal.bentsen/D1/datasets2024/VISEM-Tracking-Silver-OBB-AFTER-SAM-SEG-manual-conversion12feb/labels/train\"\n",
    "average_size = calculate_average_size_obb(directory)\n",
    "print(f\"The average size of the OBB bounding boxes is: {average_size}\")\n"
   ]
  }
 ],
 "metadata": {
  "kernelspec": {
   "display_name": "myenv",
   "language": "python",
   "name": "python3"
  },
  "language_info": {
   "codemirror_mode": {
    "name": "ipython",
    "version": 3
   },
   "file_extension": ".py",
   "mimetype": "text/x-python",
   "name": "python",
   "nbconvert_exporter": "python",
   "pygments_lexer": "ipython3",
   "version": "3.10.12"
  }
 },
 "nbformat": 4,
 "nbformat_minor": 2
}
